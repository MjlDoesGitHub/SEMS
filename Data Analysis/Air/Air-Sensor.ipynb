{
 "cells": [
  {
   "cell_type": "code",
   "execution_count": null,
   "metadata": {},
   "outputs": [],
   "source": [
    "\n",
    "\n",
    "# Define the I2C bus number and sensor address\n",
    "bus = smbus2.SMBus(1)  # Use 1 for Raspberry Pi 3, 0 for Raspberry Pi 1 or 2\n",
    "sgp30_address = 0x58\n",
    "\n",
    "# Initialize the sensor\n",
    "bus.write_i2c_block_data(sgp30_address, 0x20, [0x03, 0x00])  # Initialize air quality measurement\n",
    "\n",
    "# Open a CSV file for writing\n",
    "csv_file = 'gas_sensor_data.csv'\n",
    "with open(csv_file, 'w', newline='') as file:\n",
    "    writer = csv.writer(file)\n",
    "    writer.writerow(['Timestamp', 'CO2 (ppm)', 'TVOC (ppb)'])\n",
    "\n",
    "    while True:\n",
    "        # Read data from the sensor\n",
    "        data = bus.read_i2c_block_data(sgp30_address, 0x2008, 6)\n",
    "        co2 = data[0] << 8 | data[1]\n",
    "        tvoc = data[3] << 8 | data[4]\n",
    "\n",
    "        # Get the current timestamp\n",
    "        timestamp = time.strftime('%Y-%m-%d %H:%M:%S')\n",
    "\n",
    "        # Write data to the CSV file\n",
    "        writer.writerow([timestamp, co2, tvoc])\n",
    "        file.flush()  # Flush the buffer to ensure data is written immediately\n",
    "\n",
    "        # Wait for a specified interval (e.g., 1 second)\n",
    "        time.sleep(1)"
   ]
  }
 ],
 "metadata": {
  "language_info": {
   "name": "python"
  },
  "orig_nbformat": 4
 },
 "nbformat": 4,
 "nbformat_minor": 2
}
